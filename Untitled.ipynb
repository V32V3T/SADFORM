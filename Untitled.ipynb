{
 "cells": [
  {
   "cell_type": "code",
   "execution_count": 17,
   "id": "71669ac8-62c2-4e6a-b467-9fc84b151e24",
   "metadata": {},
   "outputs": [],
   "source": [
    "# Spotify Recommendation Model Training (Jupyter Notebook Format)\n",
    "\n",
    "# 1. Imports and Data Loading\n",
    "import pandas as pd\n",
    "from sklearn.preprocessing import StandardScaler\n",
    "from sklearn.cluster import KMeans\n",
    "from sklearn.metrics.pairwise import cosine_similarity"
   ]
  },
  {
   "cell_type": "code",
   "execution_count": 18,
   "id": "2dfbc2cc-34ac-421d-94fd-4fbaf7bffcc2",
   "metadata": {},
   "outputs": [],
   "source": [
    "df = pd.read_csv(\"top_10000_1950-now.csv\")"
   ]
  },
  {
   "cell_type": "code",
   "execution_count": 19,
   "id": "10f6df34-2dde-428b-9812-dae1718a4a24",
   "metadata": {},
   "outputs": [
    {
     "name": "stdout",
     "output_type": "stream",
     "text": [
      "                              Track URI                           Track Name  \\\n",
      "0  spotify:track:0vNPJrUrBnMFdCs8b2MTNG                                Fader   \n",
      "1  spotify:track:0NpvdCO506uO58D4AbKzki                               Sherry   \n",
      "2  spotify:track:1MtUq6Wp1eQ8PC6BbPCj8P  I Took A Pill In Ibiza - Seeb Remix   \n",
      "3  spotify:track:59lq75uFIqzUZcgZ4CbqFG                   Let Go for Tonight   \n",
      "4  spotify:track:7KdcZQ3GJeGdserhK61kfv          The Way I Want To Touch You   \n",
      "\n",
      "                                       Artist URI(s)  \\\n",
      "0              spotify:artist:4W48hZAnAHVOC2c8WH8pcq   \n",
      "1              spotify:artist:6mcrZQmgzFGRWf7C0SObou   \n",
      "2  spotify:artist:2KsP6tYLJlTBvSUxnwlVWa, spotify...   \n",
      "3              spotify:artist:7qRll6DYV06u2VuRPAVqug   \n",
      "4              spotify:artist:7BEfMxbaqx6dOpbtlEqScm   \n",
      "\n",
      "                     Artist Name(s)                             Album URI  \\\n",
      "0                   The Temper Trap  spotify:album:0V59MMtgoruvEqMv18KAOH   \n",
      "1  Frankie Valli & The Four Seasons  spotify:album:0NUEQILaBzavnzcMEs4buZ   \n",
      "2                 Mike Posner, Seeb  spotify:album:1Tz3Ai1guEFf4hV3d9i17K   \n",
      "3                             Foxes  spotify:album:5AQ7uKRSpAv7SNUl4j24ru   \n",
      "4                Captain & Tennille  spotify:album:3GUxesVyOehInaxJyCTh6d   \n",
      "\n",
      "                                       Album Name  \\\n",
      "0                       Conditions (Tour Edition)   \n",
      "1  The Very Best of Frankie Valli & The 4 Seasons   \n",
      "2                                At Night, Alone.   \n",
      "3                               Glorious (Deluxe)   \n",
      "4                      Love Will Keep Us Together   \n",
      "\n",
      "                     Album Artist URI(s)              Album Artist Name(s)  \\\n",
      "0  spotify:artist:4W48hZAnAHVOC2c8WH8pcq                   The Temper Trap   \n",
      "1  spotify:artist:6mcrZQmgzFGRWf7C0SObou  Frankie Valli & The Four Seasons   \n",
      "2  spotify:artist:2KsP6tYLJlTBvSUxnwlVWa                       Mike Posner   \n",
      "3  spotify:artist:7qRll6DYV06u2VuRPAVqug                             Foxes   \n",
      "4  spotify:artist:7BEfMxbaqx6dOpbtlEqScm                Captain & Tennille   \n",
      "\n",
      "  Album Release Date                                    Album Image URL  ...  \\\n",
      "0               2009  https://i.scdn.co/image/ab67616d0000b273f86ae8...  ...   \n",
      "1         2003-01-14  https://i.scdn.co/image/ab67616d0000b273b96c21...  ...   \n",
      "2         2016-05-06  https://i.scdn.co/image/ab67616d0000b273a19be7...  ...   \n",
      "3         2014-05-12  https://i.scdn.co/image/ab67616d0000b273ae5c7d...  ...   \n",
      "4         1975-01-01  https://i.scdn.co/image/ab67616d0000b273e21a28...  ...   \n",
      "\n",
      "   Speechiness  Acousticness  Instrumentalness Liveness  Valence    Tempo  \\\n",
      "0       0.0353      0.000101          0.690000   0.0752    0.158  134.974   \n",
      "1       0.0441      0.626000          0.000000   0.1130    0.734  117.562   \n",
      "2       0.1110      0.035300          0.000008   0.0843    0.710  101.969   \n",
      "3       0.0632      0.042900          0.000002   0.3260    0.299  140.064   \n",
      "4       0.0248      0.624000          0.000112   0.3430    0.597  111.290   \n",
      "\n",
      "  Time Signature Album Genres                           Label  \\\n",
      "0            4.0          NaN              Liberation Records   \n",
      "1            4.0          NaN                           Rhino   \n",
      "2            4.0          NaN  Monster Mountain, LLC / Island   \n",
      "3            4.0          NaN       Sign Of The Times Records   \n",
      "4            4.0          NaN                             A&M   \n",
      "\n",
      "                                          Copyrights  \n",
      "0   C 2010 Liberation Music, P 2010 Liberation Music  \n",
      "1  C © 2004 Bob Gaudio & Frankie Valli d/b/a The ...  \n",
      "2  C © 2016 Island Records, a division of UMG Rec...  \n",
      "3  P (P) 2014 Sign Of The Times Limited under exc...  \n",
      "4  C © 1975 A&M Records, P This Compilation ℗ 197...  \n",
      "\n",
      "[5 rows x 35 columns]\n"
     ]
    }
   ],
   "source": [
    "print(df.head())"
   ]
  },
  {
   "cell_type": "code",
   "execution_count": 21,
   "id": "b06dc275-96c1-4c69-ba6b-d1dede9b5ff9",
   "metadata": {},
   "outputs": [],
   "source": [
    "# 2. Feature Selection and Cleaning\n",
    "audio_features = [\n",
    "    \"Danceability\", \"Energy\", \"Loudness\", \"Speechiness\", \"Acousticness\",\n",
    "    \"Instrumentalness\", \"Liveness\", \"Valence\", \"Tempo\"\n",
    "]\n",
    "metadata_columns = [\"Track Name\", \"Artist Name(s)\", \"Album Image URL\", \"Track URI\"]\n",
    "\n",
    "# Drop rows with missing values\n",
    "df_clean = df.dropna(subset=audio_features + metadata_columns).reset_index(drop=True)"
   ]
  },
  {
   "cell_type": "code",
   "execution_count": 22,
   "id": "3edd3e93-4e36-408d-b326-9fb4d512604d",
   "metadata": {},
   "outputs": [],
   "source": [
    "# 3. Feature Scaling\n",
    "scaler = StandardScaler()\n",
    "X_scaled = scaler.fit_transform(df_clean[audio_features])"
   ]
  },
  {
   "cell_type": "code",
   "execution_count": 23,
   "id": "7a6d7602-2a2e-4566-a934-ef2112febf47",
   "metadata": {},
   "outputs": [],
   "source": [
    "# 4. KMeans Clustering\n",
    "kmeans = KMeans(n_clusters=10, random_state=42, n_init=10)\n",
    "df_clean[\"Cluster\"] = kmeans.fit_predict(X_scaled)"
   ]
  },
  {
   "cell_type": "code",
   "execution_count": 24,
   "id": "b040b070-8a35-409c-8bf7-722d17463e52",
   "metadata": {},
   "outputs": [],
   "source": [
    "# 5. Modified Recommendation Function (based on track name)\n",
    "def get_recommendations_by_name(track_name, top_n=5):\n",
    "    matches = df_clean[df_clean[\"Track Name\"].str.lower() == track_name.lower()]\n",
    "    \n",
    "    if matches.empty:\n",
    "        return f\"Track '{track_name}' not found in dataset.\"\n",
    "    \n",
    "    # Pick the first matching song (you can adjust this logic)\n",
    "    song_row = matches.iloc[0]\n",
    "    song_index = song_row.name  # Get the index of the song in df_clean\n",
    "    \n",
    "    target_cluster = song_row[\"Cluster\"]\n",
    "    cluster_songs = df_clean[df_clean[\"Cluster\"] == target_cluster]\n",
    "    \n",
    "    # Scale features for cluster\n",
    "    features_cluster = scaler.transform(cluster_songs[audio_features])\n",
    "    target_vector = scaler.transform([song_row[audio_features]])  # Rescale just this row\n",
    "    \n",
    "    # Cosine similarity\n",
    "    similarities = cosine_similarity(target_vector, features_cluster).flatten()\n",
    "    similar_indices = similarities.argsort()[::-1][1:top_n+1]  # Skip the input song\n",
    "\n",
    "    # Return recommendations\n",
    "    return cluster_songs.iloc[similar_indices][metadata_columns]"
   ]
  },
  {
   "cell_type": "code",
   "execution_count": 25,
   "id": "8367c207-8f3b-4111-b4f2-c5fd9d36789b",
   "metadata": {},
   "outputs": [
    {
     "name": "stderr",
     "output_type": "stream",
     "text": [
      "/opt/anaconda3/lib/python3.12/site-packages/sklearn/base.py:493: UserWarning: X does not have valid feature names, but StandardScaler was fitted with feature names\n",
      "  warnings.warn(\n"
     ]
    },
    {
     "data": {
      "text/plain": [
       "(Track Name        Blinding Lights\n",
       " Artist Name(s)         The Weeknd\n",
       " Name: 4870, dtype: object,\n",
       "                    Track Name           Artist Name(s)  \\\n",
       " 73                 Vegas Girl            Conor Maynard   \n",
       " 1696                Come Home            Daniel Powter   \n",
       " 5094          Blinding Lights               The Weeknd   \n",
       " 3404  Don't Want to Leave You       Scouting For Girls   \n",
       " 5963          Let Me Love You  DJ Snake, Justin Bieber   \n",
       " \n",
       "                                         Album Image URL  \\\n",
       " 73    https://i.scdn.co/image/ab67616d0000b2731dbee6...   \n",
       " 1696  https://i.scdn.co/image/ab67616d0000b27303fbeb...   \n",
       " 5094  https://i.scdn.co/image/ab67616d0000b273c464fa...   \n",
       " 3404  https://i.scdn.co/image/ab67616d0000b2730ebb38...   \n",
       " 5963  https://i.scdn.co/image/ab67616d0000b2735045de...   \n",
       " \n",
       "                                  Track URI  \n",
       " 73    spotify:track:7K5u9x1qd2WyEkTN7ntm1A  \n",
       " 1696  spotify:track:2xaSVQ7d7xvRkHqXIFyKRK  \n",
       " 5094  spotify:track:0sf12qNH5qcw8qpgymFOqD  \n",
       " 3404  spotify:track:7HD8pjfVgvWgIfkzELtCuH  \n",
       " 5963  spotify:track:4pdPtRcBmOSQDlJ3Fk945m  )"
      ]
     },
     "execution_count": 25,
     "metadata": {},
     "output_type": "execute_result"
    }
   ],
   "source": [
    "# 6. Example Usage (by track name)\n",
    "input_track_name = \"Blinding Lights\"  # Replace with a known song in your dataset\n",
    "input_song = df_clean[df_clean[\"Track Name\"].str.lower() == input_track_name.lower()].iloc[0][[\"Track Name\", \"Artist Name(s)\"]]\n",
    "recommendations = get_recommendations_by_name(input_track_name)\n",
    "\n",
    "input_song, recommendations"
   ]
  }
 ],
 "metadata": {
  "kernelspec": {
   "display_name": "Python [conda env:base] *",
   "language": "python",
   "name": "conda-base-py"
  },
  "language_info": {
   "codemirror_mode": {
    "name": "ipython",
    "version": 3
   },
   "file_extension": ".py",
   "mimetype": "text/x-python",
   "name": "python",
   "nbconvert_exporter": "python",
   "pygments_lexer": "ipython3",
   "version": "3.12.7"
  }
 },
 "nbformat": 4,
 "nbformat_minor": 5
}
